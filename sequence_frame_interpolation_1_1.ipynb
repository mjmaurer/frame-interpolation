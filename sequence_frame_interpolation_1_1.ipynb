{
  "nbformat": 4,
  "nbformat_minor": 0,
  "metadata": {
    "colab": {
      "name": "sequence_frame_interpolation_1.1.ipynb",
      "provenance": [],
      "collapsed_sections": [],
      "mount_file_id": "1VA3Mw2Cr3FoChBE7kQlqbS2W2z8DCdBB",
      "authorship_tag": "ABX9TyN+vyvUsWmXl9vC03ek5Emh",
      "include_colab_link": true
    },
    "kernelspec": {
      "name": "python3",
      "display_name": "Python 3"
    },
    "language_info": {
      "name": "python"
    },
    "accelerator": "GPU"
  },
  "cells": [
    {
      "cell_type": "markdown",
      "metadata": {
        "id": "view-in-github",
        "colab_type": "text"
      },
      "source": [
        "<a href=\"https://colab.research.google.com/github/vsewall/frame-interpolation/blob/main/sequence_frame_interpolation_1_1.ipynb\" target=\"_parent\"><img src=\"https://colab.research.google.com/assets/colab-badge.svg\" alt=\"Open In Colab\"/></a>"
      ]
    },
    {
      "cell_type": "markdown",
      "source": [
        "# With this notebook you can slow down your image sequence generated with **VQGAN+CLIP**, **pytti**, **Disco Diffusion** or any other. \n",
        "### More information about **frame-interpolation** algorithm on [github](https://github.com/google-research/frame-interpolation)\n",
        "---\n",
        "###telegram: [тоже моушн](https://t.me/too_motion) \n",
        "![visitors](https://visitor-badge.glitch.me/badge?page_id=vsewall2motion_frame_interpolation)"
      ],
      "metadata": {
        "id": "JfVPO1I1sVbx"
      }
    },
    {
      "cell_type": "code",
      "execution_count": null,
      "metadata": {
        "id": "zF4hYQSGn0e7",
        "cellView": "form"
      },
      "outputs": [],
      "source": [
        "#@markdown ##check GPU\n",
        "!nvidia-smi\n"
      ]
    },
    {
      "cell_type": "code",
      "source": [
        "#@markdown ##prep #1\n",
        "#@markdown ###clone repo\n",
        "!git clone https://github.com/vsewall/frame-interpolation frame_interpolation"
      ],
      "metadata": {
        "id": "X3ZO5P0itvjx",
        "cellView": "form"
      },
      "execution_count": null,
      "outputs": []
    },
    {
      "cell_type": "code",
      "source": [
        "#@markdown ##prep #2\n",
        "#@markdown ###you will see the restart button after execution. press it or go `Runtime > Restart runtime`\n",
        "#@markdown ###and after restarting **RUN THIS CELL AGAIN**\n",
        "!pip install tensorflow-datasets==4.4.0 tensorflow-addons==0.15.0 absl-py==0.12.0 gin-config==0.5.0 parameterized==0.8.1 mediapy==1.0.3 scikit-image==0.19.1 apache-beam==2.34.0"
      ],
      "metadata": {
        "cellView": "form",
        "id": "el_ckJCqiUdc"
      },
      "execution_count": null,
      "outputs": []
    },
    {
      "cell_type": "code",
      "source": [
        "#@markdown ##prep #3\n",
        "#@markdown ###download pretrained models\n",
        "##@markdown ###if you get a message that *download ended unsuccessfully*, run this cell again\n",
        "\n",
        "#!pip install gdown -U --no-cache-dir\n",
        "\n",
        "#import gdown\n",
        "\n",
        "#url = 'https://drive.google.com/drive/folders/1q8110-qp225asX3DQvZnfLfJPkCHmDpy?usp=sharing'\n",
        "\n",
        "#gdown.download_folder(url)\n",
        "\n",
        "!gdown --id 1C1YwOo293_yrgSS8tAyFbbVcMeXxzftE\n",
        "!unzip \"/content/pretrained_models-20220214T214839Z-001.zip\" -d \"/content\"\n",
        "\n",
        "#!gdown --id 1DYg00AUG5Hu7bIoz03DAZhST-09k6STm\n",
        "#!mv \"/content/interpolator_cli.py\" \"/content/frame_interpolation/eval/interpolator_cli.py\""
      ],
      "metadata": {
        "id": "bw_ii1I3qNm0",
        "cellView": "form"
      },
      "execution_count": null,
      "outputs": []
    },
    {
      "cell_type": "code",
      "source": [
        "#@markdown ##prep #4\n",
        "#@markdown ###mount your google drive\n",
        "from google.colab import drive\n",
        "drive.mount('/content/drive')"
      ],
      "metadata": {
        "cellView": "form",
        "id": "ajfClzMhl6pq"
      },
      "execution_count": null,
      "outputs": []
    },
    {
      "cell_type": "code",
      "source": [
        "#@markdown ##let's interpolate frames!\n",
        "#@markdown ###copy path to the sequence folder and paste it below\n",
        "\n",
        "folder = '/content/drive/MyDrive/pytti_test/images_out/default' #@param {type:\"string\"}\n",
        "\n",
        "#@markdown ###the higher the next value, the longer the final video\n",
        "#@markdown ###1 ≈ 2x, 2 ≈ 4x, 3 ≈ 8x etc.\n",
        "\n",
        "times = 3 #@param {type:\"slider\", min:1, max:10, step:1}\n",
        "\n",
        "#@markdown ###look for the result in your folder - output video and a new slow-motion image sequence\n",
        "\n",
        "\n",
        "!python3 -m frame_interpolation.eval.interpolator_cli \\\n",
        "     --pattern $folder \\\n",
        "     --model_path /content/pretrained_models/film_net/Style/saved_model \\\n",
        "     --times_to_interpolate $times \\\n",
        "     --output_video"
      ],
      "metadata": {
        "cellView": "form",
        "id": "aefS-OV3mT5a"
      },
      "execution_count": null,
      "outputs": []
    }
  ]
}